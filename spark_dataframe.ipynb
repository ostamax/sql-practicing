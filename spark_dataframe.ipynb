{
 "cells": [
  {
   "cell_type": "code",
   "execution_count": 1,
   "metadata": {
    "collapsed": true
   },
   "outputs": [],
   "source": [
    "from pyspark.sql import SparkSession, functions as F, types as T"
   ]
  },
  {
   "cell_type": "code",
   "execution_count": 2,
   "metadata": {
    "collapsed": false,
    "pycharm": {
     "is_executing": true
    }
   },
   "outputs": [
    {
     "name": "stderr",
     "output_type": "stream",
     "text": [
      "24/02/15 19:23:44 WARN Utils: Your hostname, maksym-HP-Pavilion-Gaming-Laptop-16-a0xxx resolves to a loopback address: 127.0.1.1; using 192.168.0.111 instead (on interface wlo1)\n",
      "24/02/15 19:23:44 WARN Utils: Set SPARK_LOCAL_IP if you need to bind to another address\n",
      "Setting default log level to \"WARN\".\n",
      "To adjust logging level use sc.setLogLevel(newLevel). For SparkR, use setLogLevel(newLevel).\n",
      "24/02/15 19:23:45 WARN NativeCodeLoader: Unable to load native-hadoop library for your platform... using builtin-java classes where applicable\n"
     ]
    }
   ],
   "source": [
    "spark = SparkSession.builder.master('local[*]').getOrCreate()"
   ]
  },
  {
   "cell_type": "code",
   "execution_count": 3,
   "metadata": {
    "collapsed": false
   },
   "outputs": [
    {
     "name": "stdout",
     "output_type": "stream",
     "text": [
      "3.4.1\n"
     ]
    }
   ],
   "source": [
    "print(spark.version)"
   ]
  },
  {
   "cell_type": "code",
   "execution_count": 4,
   "metadata": {
    "collapsed": false
   },
   "outputs": [
    {
     "name": "stderr",
     "output_type": "stream",
     "text": [
      "                                                                                \r"
     ]
    }
   ],
   "source": [
    "actor_df = spark.read.csv('./data/actor.csv', header=True, inferSchema=True)\n",
    "address_df = spark.read.csv('./data/address.csv', header=True, inferSchema=True)\n",
    "category_df = spark.read.csv('./data/category.csv', header=True, inferSchema=True)\n",
    "city_df = spark.read.csv('./data/city.csv', header=True, inferSchema=True)\n",
    "country_df = spark.read.csv('./data/country.csv', header=True, inferSchema=True)\n",
    "customer_df = spark.read.csv('./data/customer.csv', header=True, inferSchema=True)\n",
    "film_df = spark.read.csv('./data/film.csv', header=True, inferSchema=True)\n",
    "film_actor_df = spark.read.csv('./data/film_actor.csv', header=True, inferSchema=True)\n",
    "film_category_df = spark.read.csv('./data/film_category.csv', header=True, inferSchema=True)\n",
    "inventory_df = spark.read.csv('./data/inventory.csv', header=True, inferSchema=True)\n",
    "language_df = spark.read.csv('./data/language.csv', header=True, inferSchema=True)\n",
    "payment_df = spark.read.csv('./data/payment.csv', header=True, inferSchema=True)\n",
    "rental_df = spark.read.csv('./data/rental.csv', header=True, inferSchema=True)\n",
    "staff_df = spark.read.csv('./data/staff.csv', header=True, inferSchema=True)\n",
    "store_df = spark.read.csv('./data/store.csv', header=True, inferSchema=True)"
   ]
  },
  {
   "cell_type": "markdown",
   "metadata": {
    "collapsed": false
   },
   "source": [
    "# Домашнє завдання на тему Spark SQL\n",
    "\n",
    "Задачі з домашнього завдання на SQL потрібно розвʼязати за допомогою Spark SQL DataFrame API.\n",
    "\n",
    "- Дампи таблиць знаходяться в папці `data`. Датафрейми таблиць вже створені в клітинці вище.\n",
    "- Можете створювати стільки нових клітинок, скільки вам необхідно.\n",
    "- Розвʼязок кожної задачі має бути відображений в самому файлі (використати метод `.show()`)\n",
    "- код має бути оформлений у відповідності із одним із стилем, показаним лектором на занятті 13.\n",
    "\n",
    "**Увага!**\n",
    "Використовувати мову запитів SQL безпосередньо забороняється, потрібно використовувати виключно DataFrame API!\n"
   ]
  },
  {
   "cell_type": "markdown",
   "metadata": {
    "collapsed": false
   },
   "source": [
    "1.\n",
    "Вивести кількість фільмів в кожній категорії.\n",
    "Результат відсортувати за спаданням."
   ]
  },
  {
   "cell_type": "code",
   "execution_count": 5,
   "metadata": {
    "collapsed": false
   },
   "outputs": [
    {
     "name": "stdout",
     "output_type": "stream",
     "text": [
      "+-----------+-----+\n",
      "|   category|count|\n",
      "+-----------+-----+\n",
      "|     Sports|   74|\n",
      "|    Foreign|   73|\n",
      "|     Family|   69|\n",
      "|Documentary|   68|\n",
      "|  Animation|   66|\n",
      "|     Action|   64|\n",
      "|        New|   63|\n",
      "|      Drama|   62|\n",
      "|      Games|   61|\n",
      "|     Sci-Fi|   61|\n",
      "|   Children|   60|\n",
      "|     Comedy|   58|\n",
      "|     Travel|   57|\n",
      "|   Classics|   57|\n",
      "|     Horror|   56|\n",
      "|      Music|   51|\n",
      "+-----------+-----+\n",
      "\n"
     ]
    }
   ],
   "source": [
    "# тут має бути розвʼязок задачі\n",
    "category_df.join(film_category_df, on=category_df.category_id == film_category_df.category_id, how='left') \\\n",
    "    .select(\"name\").groupBy('name').count().select(F.col('name').alias(\"category\"), F.col('count')).orderBy(F.desc(\"count\")).show()"
   ]
  },
  {
   "cell_type": "markdown",
   "metadata": {
    "collapsed": false
   },
   "source": [
    "2.\n",
    "Вивести 10 акторів, чиї фільми брали на прокат найбільше.\n",
    "Результат відсортувати за спаданням."
   ]
  },
  {
   "cell_type": "code",
   "execution_count": 22,
   "metadata": {
    "collapsed": false
   },
   "outputs": [
    {
     "name": "stdout",
     "output_type": "stream",
     "text": [
      "+------------------+-----+\n",
      "|        actor_name|count|\n",
      "+------------------+-----+\n",
      "|    GINA DEGENERES|  753|\n",
      "|    MATTHEW CARREY|  678|\n",
      "|       MARY KEITEL|  674|\n",
      "|ANGELA WITHERSPOON|  654|\n",
      "|       WALTER TORN|  640|\n",
      "|       HENRY BERRY|  612|\n",
      "|       JAYNE NOLTE|  611|\n",
      "|        VAL BOLGER|  605|\n",
      "|     SANDRA KILMER|  604|\n",
      "|      SEAN GUINESS|  599|\n",
      "+------------------+-----+\n",
      "\n"
     ]
    }
   ],
   "source": [
    "# тут має бути розвʼязок задачі\n",
    "rental_df.join(inventory_df, on=inventory_df.inventory_id == rental_df.inventory_id) \\\n",
    "    .join(film_df, on=film_df.film_id == inventory_df.film_id) \\\n",
    "    .join(film_actor_df, on=film_actor_df.film_id == film_df.film_id) \\\n",
    "    .join(actor_df, on=actor_df.actor_id == film_actor_df.actor_id) \\\n",
    "    .groupBy(actor_df.actor_id) \\\n",
    "    .agg(F.first('first_name'), F.first('last_name'), F.count('rental_id').alias('count')) \\\n",
    "    .orderBy(F.desc(\"count\")) \\\n",
    "    .select(F.concat('first(first_name)', F.lit(' '), 'first(last_name)').alias('actor_name'), \"count\").limit(10).show()\n"
   ]
  },
  {
   "cell_type": "markdown",
   "metadata": {
    "collapsed": false
   },
   "source": [
    "3.\n",
    "Вивести категорія фільмів, на яку було витрачено найбільше грошей\n",
    "в прокаті"
   ]
  },
  {
   "cell_type": "code",
   "execution_count": 61,
   "metadata": {
    "collapsed": false
   },
   "outputs": [
    {
     "name": "stdout",
     "output_type": "stream",
     "text": [
      "+------+-----------------+\n",
      "|  name|       rental_sum|\n",
      "+------+-----------------+\n",
      "|Sports|5314.209999999847|\n",
      "+------+-----------------+\n",
      "\n"
     ]
    }
   ],
   "source": [
    "# тут має бути розвʼязок задачі\n",
    "payment_df.join(rental_df, on=payment_df.rental_id == rental_df.rental_id, how='left') \\\n",
    "    .join(inventory_df, on=inventory_df.inventory_id == rental_df.inventory_id, how='left') \\\n",
    "    .join(film_df, on=film_df.film_id == inventory_df.film_id, how='left') \\\n",
    "    .join(film_category_df, on=film_category_df.film_id == film_df.film_id, how='left') \\\n",
    "    .join(category_df, on=category_df.category_id == film_category_df.category_id, how='left') \\\n",
    "    .groupBy(category_df.name).agg(F.sum('amount').alias('rental_sum')).orderBy(F.desc(\"rental_sum\")).limit(1).show()"
   ]
  },
  {
   "cell_type": "markdown",
   "metadata": {
    "collapsed": false
   },
   "source": [
    "4.\n",
    "Вивести назви фільмів, яких не має в inventory."
   ]
  },
  {
   "cell_type": "code",
   "execution_count": 51,
   "metadata": {
    "collapsed": false
   },
   "outputs": [
    {
     "name": "stdout",
     "output_type": "stream",
     "text": [
      "+----------------------+\n",
      "|title                 |\n",
      "+----------------------+\n",
      "|ALICE FANTASIA        |\n",
      "|APOLLO TEEN           |\n",
      "|ARGONAUTS TOWN        |\n",
      "|ARK RIDGEMONT         |\n",
      "|ARSENIC INDEPENDENCE  |\n",
      "|BOONDOCK BALLROOM     |\n",
      "|BUTCH PANTHER         |\n",
      "|CATCH AMISTAD         |\n",
      "|CHINATOWN GLADIATOR   |\n",
      "|CHOCOLATE DUCK        |\n",
      "|COMMANDMENTS EXPRESS  |\n",
      "|CROSSING DIVORCE      |\n",
      "|CROWDS TELEMARK       |\n",
      "|CRYSTAL BREAKING      |\n",
      "|DAZED PUNK            |\n",
      "|DELIVERANCE MULHOLLAND|\n",
      "|FIREHOUSE VIETNAM     |\n",
      "|FLOATS GARDEN         |\n",
      "|FRANKENSTEIN STRANGER |\n",
      "|GLADIATOR WESTWARD    |\n",
      "+----------------------+\n",
      "only showing top 20 rows\n",
      "\n"
     ]
    }
   ],
   "source": [
    "# тут має бути розвʼязок задачі\n",
    "film_df.join(inventory_df, on= inventory_df.film_id == film_df.film_id, how='left') \\\n",
    "    .select(F.col('title')).filter(inventory_df.film_id.isNull()).show(truncate=False)"
   ]
  },
  {
   "cell_type": "markdown",
   "metadata": {
    "collapsed": false
   },
   "source": [
    "5.\n",
    "Вивести топ 3 актори, які найбільше зʼявлялись в категорії фільмів “Children”"
   ]
  },
  {
   "cell_type": "code",
   "execution_count": 71,
   "metadata": {
    "collapsed": false,
    "pycharm": {
     "is_executing": true
    }
   },
   "outputs": [
    {
     "name": "stdout",
     "output_type": "stream",
     "text": [
      "+-------------+-----+\n",
      "|   actor_name|count|\n",
      "+-------------+-----+\n",
      "| HELEN VOIGHT|    7|\n",
      "|KEVIN GARLAND|    5|\n",
      "|   MARY TANDY|    5|\n",
      "+-------------+-----+\n",
      "\n"
     ]
    }
   ],
   "source": [
    "# тут має бути розвʼязок задачі\n",
    "film_df.join(film_actor_df, on=film_actor_df.film_id == film_df.film_id, how='left') \\\n",
    "    .join(film_category_df, on=film_category_df.film_id == film_df.film_id, how='left') \\\n",
    "    .join(actor_df, on=actor_df.actor_id == film_actor_df.actor_id, how='left') \\\n",
    "    .join(category_df, on=category_df.category_id == film_category_df.category_id, how='left') \\\n",
    "    .filter(category_df.name == \"Children\") \\\n",
    "    .groupBy(actor_df.actor_id, actor_df.first_name, actor_df.last_name).count() \\\n",
    "    .select(F.concat(actor_df.first_name, F.lit(' '), actor_df.last_name).alias('actor_name'), \"count\") \\\n",
    "    .orderBy(F.desc(\"count\"), actor_df.first_name, actor_df.last_name).limit(3).show()"
   ]
  },
  {
   "cell_type": "code",
   "execution_count": null,
   "metadata": {
    "collapsed": false
   },
   "outputs": [],
   "source": []
  },
  {
   "cell_type": "markdown",
   "metadata": {
    "collapsed": false
   },
   "source": [
    "Stop Spark session:"
   ]
  },
  {
   "cell_type": "code",
   "execution_count": 72,
   "metadata": {
    "collapsed": false
   },
   "outputs": [],
   "source": [
    "spark.stop()"
   ]
  },
  {
   "cell_type": "code",
   "execution_count": null,
   "metadata": {},
   "outputs": [],
   "source": []
  }
 ],
 "metadata": {
  "kernelspec": {
   "display_name": "Python 3",
   "language": "python",
   "name": "python3"
  },
  "language_info": {
   "codemirror_mode": {
    "name": "ipython",
    "version": 3
   },
   "file_extension": ".py",
   "mimetype": "text/x-python",
   "name": "python",
   "nbconvert_exporter": "python",
   "pygments_lexer": "ipython3",
   "version": "3.10.12"
  }
 },
 "nbformat": 4,
 "nbformat_minor": 0
}
